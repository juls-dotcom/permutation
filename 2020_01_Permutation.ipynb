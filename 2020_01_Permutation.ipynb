{
 "cells": [
  {
   "cell_type": "markdown",
   "metadata": {},
   "source": [
    "- title: tutorial: Permutation test: statistical tool to investigate individual data\n",
    "- date: 2020-01-28 12:00\n",
    "- category: tutorial\n",
    "- tags: python, analysis, statistics\n",
    "- slug: permutation_1\n",
    "- authors: Julien Hernandez Lallement\n",
    "- summary: Background and python pipeline to compute permutation tests\n",
    "- illustration: 2020_01_permutation.jpg"
   ]
  },
  {
   "cell_type": "markdown",
   "metadata": {},
   "source": [
    "A typical situation regarding solving an experimental question using a data-driven approach involved several groups that differ in several parameters. Say you have data about people that ate chocoloate (Group 1), and some that did not eat chocolate (Group 2). Because of some well funded reason, you think that people that ate chocolate are more likely to ride camels than people that did not eat the chocolate."
   ]
  },
  {
   "cell_type": "markdown",
   "metadata": {},
   "source": [
    "### Approaching group data"
   ]
  },
  {
   "cell_type": "markdown",
   "metadata": {},
   "source": [
    "Now one typical approach in this (a bit crazy) experimental situations would be to look at the difference in camel riding propensity in each group. You could compute the proportions of camel riding actions, or the time spent on a camel, or other dependent variable that might capture the effect you believe to be true."
   ]
  },
  {
   "cell_type": "code",
   "execution_count": 1,
   "metadata": {},
   "outputs": [],
   "source": [
    "import numpy as np\n",
    "import matplotlib.pyplot as plt\n",
    "import pandas as pd"
   ]
  },
  {
   "cell_type": "code",
   "execution_count": 3,
   "metadata": {},
   "outputs": [
    {
     "data": {
      "text/plain": [
       "Text(0.5, 1.0, 'Chocolate Group')"
      ]
     },
     "execution_count": 3,
     "metadata": {},
     "output_type": "execute_result"
    },
    {
     "data": {
      "image/png": "[encoded data removed]",
      "text/plain": [
       "<Figure size 432x288 with 1 Axes>"
      ]
     },
     "metadata": {
      "needs_background": "light"
     },
     "output_type": "display_data"
    }
   ],
   "source": [
    "np.random.seed(42)\n",
    "mean = 0.5; sd=1; sample_size=1000\n",
    "chocolate_distibution = np.random.normal(loc=mean, scale=sd, size=sample_size)\n",
    "plt.hist(chocolate_distibution)\n",
    "plt.ylabel(\"Time spent on a camel\")\n",
    "plt.title(\"Chocolate Group\")"
   ]
  },
  {
   "cell_type": "code",
   "execution_count": 4,
   "metadata": {},
   "outputs": [
    {
     "data": {
      "text/plain": [
       "Text(0.5, 1.0, 'Non Chocolate Group')"
      ]
     },
     "execution_count": 4,
     "metadata": {},
     "output_type": "execute_result"
    },
    {
     "data": {
      "image/png": "[encoded data removed]",
      "text/plain": [
       "<Figure size 432x288 with 1 Axes>"
      ]
     },
     "metadata": {
      "needs_background": "light"
     },
     "output_type": "display_data"
    }
   ],
   "source": [
    "mean = 0; sd=1; sample_size=1000\n",
    "non_chocolate_distibution = np.random.normal(loc=mean, scale=sd, size=sample_size)\n",
    "plt.hist(non_chocolate_distibution)\n",
    "plt.ylabel(\"Time spent on a camel\")\n",
    "plt.title(\"Non Chocolate Group\")"
   ]
  },
  {
   "cell_type": "code",
   "execution_count": 5,
   "metadata": {},
   "outputs": [
    {
     "name": "stdout",
     "output_type": "stream",
     "text": [
      "t-value = 10.146603036863459\n",
      "p-value = 1.2682721186380258e-23\n"
     ]
    }
   ],
   "source": [
    "from scipy import stats\n",
    "t, p = stats.ttest_ind(a=chocolate_distibution, b=non_chocolate_distibution, axis=0, equal_var=True)\n",
    "print('t-value = ' + str(t))\n",
    "print('p-value = ' + str(p))"
   ]
  },
  {
   "cell_type": "markdown",
   "metadata": {},
   "source": [
    "Well, given that I created uniform distributions centered on quite different means, we are not suprised to see a difference between these two distributions. We can conclude that people that ate chocolate spend more time riding camels that people that did not. "
   ]
  },
  {
   "cell_type": "markdown",
   "metadata": {},
   "source": [
    "### Approaching individual data"
   ]
  },
  {
   "cell_type": "markdown",
   "metadata": {},
   "source": [
    "Now let's assume that for each of these participants, you recorded the choice (Yes or No) to ride a camel. You have repeated measures, at different time points. You know that your groups are significantly different, but what about `within group` variance?"
   ]
  },
  {
   "cell_type": "markdown",
   "metadata": {},
   "source": [
    "What you might observe is that, at the group level, you do have a increased tendency to ride camels, but within the group, some people have a very high tendency while others are actually no different than the No Chocolate group."
   ]
  },
  {
   "cell_type": "markdown",
   "metadata": {},
   "source": [
    "One way to test that would be to use a permutation test, to test each participants against its own choice patterns"
   ]
  },
  {
   "cell_type": "markdown",
   "metadata": {},
   "source": [
    "### Preparing data for permutation test"
   ]
  },
  {
   "cell_type": "markdown",
   "metadata": {},
   "source": [
    "Since we are talking about choices, we are looking at a binomial distribution, where say 1 = Decision to ride a camel and 0 = Decision **not** to ride a camel. <br><br>\n",
    "Let's generate such a distribution for a given participant that would make a 100 decisions:"
   ]
  },
  {
   "cell_type": "code",
   "execution_count": 6,
   "metadata": {},
   "outputs": [
    {
     "name": "stdout",
     "output_type": "stream",
     "text": [
      "[1 1 1 1 0 0 1 0 1 1 1 1 0 0 1 1 1 1 1 1 0 0 1 0 1 1 1 1 0 1 1 1 1 0 1 1 1\n",
      " 1 1 1 1 0 0 0 1 1 1 0 1 1 1 1 1 1 0 1 1 1 1 1 0 1 0 1 1 0 1 1 1 1 0 1 0 0\n",
      " 1 0 1 0 1 1 1 1 1 0 1 1 0 1 0 0 0 0 1 1 0 1 1 1 0 1]\n"
     ]
    }
   ],
   "source": [
    "distr = np.random.binomial(1, 0.7, size=100)\n",
    "print(distr)"
   ]
  },
  {
   "cell_type": "code",
   "execution_count": 7,
   "metadata": {},
   "outputs": [
    {
     "data": {
      "text/plain": [
       "<matplotlib.axes._subplots.AxesSubplot at 0x7f0fbebe0f90>"
      ]
     },
     "execution_count": 7,
     "metadata": {},
     "output_type": "execute_result"
    },
    {
     "data": {
      "image/png": "[encoded data removed]",
      "text/plain": [
       "<Figure size 432x288 with 1 Axes>"
      ]
     },
     "metadata": {
      "needs_background": "light"
     },
     "output_type": "display_data"
    }
   ],
   "source": [
    "pd.Series(distr).plot(kind='hist')"
   ]
  },
  {
   "cell_type": "markdown",
   "metadata": {},
   "source": [
    "Here, we can see an example participant from the chocolate group, where as expected, the number of choices to ride a camel are more frequent than choices not to ride a camel"
   ]
  },
  {
   "cell_type": "markdown",
   "metadata": {},
   "source": [
    "### Generating simulation data"
   ]
  },
  {
   "cell_type": "markdown",
   "metadata": {},
   "source": [
    "Let's generate such choice patterns for different participants in each group. <br>\n",
    "Each group will be composed of 20 participants that made 100 choices.<br><br>\n",
    "We should have measured the initial preference of each participant to like camel riding (maybe some people, for some reason, like it more than others, and that should be corrected for). <br>\n",
    "We thus will generate a baseline phase (before giving them chocolate) and an experimental phase (after giving them chocolate in the chocolate group, and another neutral substance in the non chocolate group).<br><br>\n",
    "A few points: <br>\n",
    "1) I will generate biased distributions that follow the pattern found before, i.e., that people that ate chocolate are more likely to ride a camel. <br>\n",
    "2) I will produce baseline choices levels similar between the two groups, to make the between group comparison statistically valid.<br>\n",
    "3) I will include in each of these groups a few participants that behave according to the pattern in the other group, so that we can use a permutation method to detect these guys."
   ]
  },
  {
   "cell_type": "markdown",
   "metadata": {},
   "source": [
    "I define a function that generate this data"
   ]
  },
  {
   "cell_type": "code",
   "execution_count": 17,
   "metadata": {},
   "outputs": [],
   "source": [
    "def generate_simulation_data(nParticipants, nChoicesBase, nChoicesExp, binomial_ratio):\n",
    "    \"\"\"\n",
    "    Generates a simulation choice distribution based on parameters\n",
    "    Function uses a binomial distribution as basis\n",
    "    \"\"\"\n",
    "    # Pre Allocate\n",
    "    group = pd.DataFrame()\n",
    "    # Loop over participants. For each draw a binonimal choice distribution\n",
    "    for i in range (0,nParticipants):\n",
    "        # Compute choices to ride a camel before drinking, same for both groups (0.5) \n",
    "        choices_before = np.random.binomial(1, 0.4, size=nChoicesBase) \n",
    "        # Compute choices to ride a camel after drinking, different per group (defined by binomial ratio)\n",
    "        choices_after  = np.random.binomial(1, np.random.choice(binomial_ratio,replace=True), size=nChoicesExp)\n",
    "        # Concatenate\n",
    "        choices = np.concatenate([choices_before, choices_after])\n",
    "        # Store in dataframe\n",
    "        group.loc[:,i] = choices\n",
    "    return group.T\n",
    "    "
   ]
  },
  {
   "cell_type": "code",
   "execution_count": 9,
   "metadata": {},
   "outputs": [],
   "source": [
    "chocolate_grp = generate_simulation_data(nParticipants=20, nChoicesBase=20, nChoicesExp=100, binomial_ratio=[0.5,0.6,0.7,0.8,0.9])"
   ]
  },
  {
   "cell_type": "code",
   "execution_count": 10,
   "metadata": {},
   "outputs": [
    {
     "data": {
      "text/html": [
       "<div>\n",
       "<style scoped>\n",
       "    .dataframe tbody tr th:only-of-type {\n",
       "        vertical-align: middle;\n",
       "    }\n",
       "\n",
       "    .dataframe tbody tr th {\n",
       "        vertical-align: top;\n",
       "    }\n",
       "\n",
       "    .dataframe thead th {\n",
       "        text-align: right;\n",
       "    }\n",
       "</style>\n",
       "<table border=\"1\" class=\"dataframe\">\n",
       "  <thead>\n",
       "    <tr style=\"text-align: right;\">\n",
       "      <th></th>\n",
       "      <th>0</th>\n",
       "      <th>1</th>\n",
       "      <th>2</th>\n",
       "      <th>3</th>\n",
       "      <th>4</th>\n",
       "      <th>5</th>\n",
       "      <th>6</th>\n",
       "      <th>7</th>\n",
       "      <th>8</th>\n",
       "      <th>9</th>\n",
       "      <th>...</th>\n",
       "      <th>110</th>\n",
       "      <th>111</th>\n",
       "      <th>112</th>\n",
       "      <th>113</th>\n",
       "      <th>114</th>\n",
       "      <th>115</th>\n",
       "      <th>116</th>\n",
       "      <th>117</th>\n",
       "      <th>118</th>\n",
       "      <th>119</th>\n",
       "    </tr>\n",
       "  </thead>\n",
       "  <tbody>\n",
       "    <tr>\n",
       "      <th>15</th>\n",
       "      <td>0</td>\n",
       "      <td>1</td>\n",
       "      <td>0</td>\n",
       "      <td>1</td>\n",
       "      <td>0</td>\n",
       "      <td>0</td>\n",
       "      <td>0</td>\n",
       "      <td>1</td>\n",
       "      <td>1</td>\n",
       "      <td>1</td>\n",
       "      <td>...</td>\n",
       "      <td>0</td>\n",
       "      <td>1</td>\n",
       "      <td>0</td>\n",
       "      <td>1</td>\n",
       "      <td>1</td>\n",
       "      <td>1</td>\n",
       "      <td>1</td>\n",
       "      <td>1</td>\n",
       "      <td>0</td>\n",
       "      <td>0</td>\n",
       "    </tr>\n",
       "    <tr>\n",
       "      <th>17</th>\n",
       "      <td>0</td>\n",
       "      <td>0</td>\n",
       "      <td>0</td>\n",
       "      <td>1</td>\n",
       "      <td>0</td>\n",
       "      <td>1</td>\n",
       "      <td>1</td>\n",
       "      <td>0</td>\n",
       "      <td>0</td>\n",
       "      <td>0</td>\n",
       "      <td>...</td>\n",
       "      <td>1</td>\n",
       "      <td>1</td>\n",
       "      <td>1</td>\n",
       "      <td>1</td>\n",
       "      <td>1</td>\n",
       "      <td>0</td>\n",
       "      <td>1</td>\n",
       "      <td>1</td>\n",
       "      <td>1</td>\n",
       "      <td>0</td>\n",
       "    </tr>\n",
       "    <tr>\n",
       "      <th>8</th>\n",
       "      <td>0</td>\n",
       "      <td>0</td>\n",
       "      <td>1</td>\n",
       "      <td>1</td>\n",
       "      <td>0</td>\n",
       "      <td>1</td>\n",
       "      <td>0</td>\n",
       "      <td>0</td>\n",
       "      <td>1</td>\n",
       "      <td>0</td>\n",
       "      <td>...</td>\n",
       "      <td>1</td>\n",
       "      <td>1</td>\n",
       "      <td>1</td>\n",
       "      <td>0</td>\n",
       "      <td>1</td>\n",
       "      <td>1</td>\n",
       "      <td>1</td>\n",
       "      <td>0</td>\n",
       "      <td>1</td>\n",
       "      <td>1</td>\n",
       "    </tr>\n",
       "    <tr>\n",
       "      <th>3</th>\n",
       "      <td>0</td>\n",
       "      <td>0</td>\n",
       "      <td>0</td>\n",
       "      <td>0</td>\n",
       "      <td>0</td>\n",
       "      <td>1</td>\n",
       "      <td>0</td>\n",
       "      <td>1</td>\n",
       "      <td>1</td>\n",
       "      <td>0</td>\n",
       "      <td>...</td>\n",
       "      <td>0</td>\n",
       "      <td>1</td>\n",
       "      <td>1</td>\n",
       "      <td>1</td>\n",
       "      <td>1</td>\n",
       "      <td>1</td>\n",
       "      <td>1</td>\n",
       "      <td>1</td>\n",
       "      <td>0</td>\n",
       "      <td>1</td>\n",
       "    </tr>\n",
       "    <tr>\n",
       "      <th>4</th>\n",
       "      <td>0</td>\n",
       "      <td>0</td>\n",
       "      <td>1</td>\n",
       "      <td>0</td>\n",
       "      <td>0</td>\n",
       "      <td>0</td>\n",
       "      <td>1</td>\n",
       "      <td>0</td>\n",
       "      <td>1</td>\n",
       "      <td>0</td>\n",
       "      <td>...</td>\n",
       "      <td>1</td>\n",
       "      <td>1</td>\n",
       "      <td>0</td>\n",
       "      <td>1</td>\n",
       "      <td>1</td>\n",
       "      <td>1</td>\n",
       "      <td>0</td>\n",
       "      <td>1</td>\n",
       "      <td>1</td>\n",
       "      <td>1</td>\n",
       "    </tr>\n",
       "  </tbody>\n",
       "</table>\n",
       "<p>5 rows × 120 columns</p>\n",
       "</div>"
      ],
      "text/plain": [
       "    0    1    2    3    4    5    6    7    8    9    ...  110  111  112  113  \\\n",
       "15    0    1    0    1    0    0    0    1    1    1  ...    0    1    0    1   \n",
       "17    0    0    0    1    0    1    1    0    0    0  ...    1    1    1    1   \n",
       "8     0    0    1    1    0    1    0    0    1    0  ...    1    1    1    0   \n",
       "3     0    0    0    0    0    1    0    1    1    0  ...    0    1    1    1   \n",
       "4     0    0    1    0    0    0    1    0    1    0  ...    1    1    0    1   \n",
       "\n",
       "    114  115  116  117  118  119  \n",
       "15    1    1    1    1    0    0  \n",
       "17    1    0    1    1    1    0  \n",
       "8     1    1    1    0    1    1  \n",
       "3     1    1    1    1    0    1  \n",
       "4     1    1    0    1    1    1  \n",
       "\n",
       "[5 rows x 120 columns]"
      ]
     },
     "execution_count": 10,
     "metadata": {},
     "output_type": "execute_result"
    }
   ],
   "source": [
    "chocolate_grp.sample(5)"
   ]
  },
  {
   "cell_type": "markdown",
   "metadata": {},
   "source": [
    "We can now quickly plot the all summed choices for riding a camel for each of these participants to verify that indeed, we have a few indifferent ones (data points around value = 50), but most of them have a preference, more or less pronounced, to ride a camel."
   ]
  },
  {
   "cell_type": "code",
   "execution_count": 14,
   "metadata": {},
   "outputs": [],
   "source": [
    "def plot_group_hist(data, title):\n",
    "    data.sum(axis=1).plot(kind='hist')\n",
    "    plt.ylabel(\"Number of participants\")\n",
    "    plt.xlabel(\"Repeated choices to ride a camel\")\n",
    "    plt.title(title)"
   ]
  },
  {
   "cell_type": "code",
   "execution_count": 15,
   "metadata": {},
   "outputs": [
    {
     "data": {
      "image/png": "[encoded data removed]",
      "text/plain": [
       "<Figure size 432x288 with 1 Axes>"
      ]
     },
     "metadata": {
      "needs_background": "light"
     },
     "output_type": "display_data"
    }
   ],
   "source": [
    "plot_group_hist(chocolate_grp, title=' Chocolate group')"
   ]
  },
  {
   "cell_type": "markdown",
   "metadata": {},
   "source": [
    "Instead of simply summing up the choides to ride a camel, let's compute a single value per participant that would reflect their preference or aversion to camel ride."
   ]
  },
  {
   "cell_type": "markdown",
   "metadata": {},
   "source": [
    "I will be using the following equation, that basically computes a score between [-1;+1], +1 reflecting a complete switch for camel ride preference after drinking, and vice versa."
   ]
  },
  {
   "cell_type": "markdown",
   "metadata": {},
   "source": [
    "\\begin{equation*}\n",
    "\\left (participant score \\right) = \\left( \\ \\frac{\\sum CamelChoice_{exp} - \\sum CamelChoice_{base}}{\\sum CamelChoice_{exp} + \\sum CamelChoice_{base}} \\right)    \n",
    "\\end{equation*}"
   ]
  },
  {
   "cell_type": "code",
   "execution_count": 16,
   "metadata": {},
   "outputs": [],
   "source": [
    "def indiv_score(data):\n",
    "    \"\"\"\n",
    "    Calculate a normalized score for each participant\n",
    "    Baseline phase is taken for the first 20 decisions\n",
    "    Trials 21 to 60 are used as actual experimental choices\n",
    "    \"\"\"\n",
    "    # Baseline is the first 20 choices, experimental is from choice 21 onwards\n",
    "    score = ((data.loc[20:60].mean() - data.loc[0:19].mean())\n",
    "        / (data.loc[20:60].mean() + data.loc[0:19].mean())\n",
    "        )\n",
    "    return score\n",
    "\n",
    "def compute_indiv_score(data):\n",
    "    \"\"\"\n",
    "    Compute score for all individuals in the dataset\n",
    "    \"\"\"\n",
    "    # Pre Allocate\n",
    "    score = pd.DataFrame(columns = ['score'])\n",
    "    # Loop over individuals to calculate score for each one\n",
    "    for i in range(0,len(data)):\n",
    "        # Calculate score\n",
    "        curr_score = indiv_score(data.loc[i,:])\n",
    "        # Store score\n",
    "        score.loc[i,'score'] = curr_score\n",
    "    return score"
   ]
  },
  {
   "cell_type": "code",
   "execution_count": 29,
   "metadata": {},
   "outputs": [
    {
     "data": {
      "text/plain": [
       "<matplotlib.axes._subplots.AxesSubplot at 0x7f0fbe8a7b50>"
      ]
     },
     "execution_count": 29,
     "metadata": {},
     "output_type": "execute_result"
    },
    {
     "data": {
      "image/png": "[encoded data removed]",
      "text/plain": [
       "<Figure size 432x288 with 1 Axes>"
      ]
     },
     "metadata": {
      "needs_background": "light"
     },
     "output_type": "display_data"
    }
   ],
   "source": [
    "score_chocolate = compute_indiv_score(chocolate_grp)\n",
    "score_chocolate.plot(kind='hist')"
   ]
  },
  {
   "cell_type": "markdown",
   "metadata": {},
   "source": [
    "We can interpret these scores as suggesting that asome individuals showed >50% higher preference to ride a camel after drinking chocolate, while the majority showed an increase in preference of approximately 20/40%. Note how a few individuals, altough pertaining to this group, show an almost oppposite pattern."
   ]
  },
  {
   "cell_type": "markdown",
   "metadata": {},
   "source": [
    "Now let's generate and look at data for the control, non chocolate group"
   ]
  },
  {
   "cell_type": "code",
   "execution_count": 30,
   "metadata": {},
   "outputs": [],
   "source": [
    "# Note that I am not using values strongly below 0.5 for the non chocolate group\n",
    "# Doing so would generate participants that **avoid** riding camels\n",
    "non_chocolate_grp = generate_simulation_data(nParticipants=20, nChoicesBase=20, nChoicesExp = 100, binomial_ratio=[0.3, 0.4,0.5])"
   ]
  },
  {
   "cell_type": "code",
   "execution_count": 31,
   "metadata": {},
   "outputs": [
    {
     "data": {
      "image/png": "[encoded data removed]",
      "text/plain": [
       "<Figure size 432x288 with 1 Axes>"
      ]
     },
     "metadata": {
      "needs_background": "light"
     },
     "output_type": "display_data"
    }
   ],
   "source": [
    "plot_group_hist(non_chocolate_grp, title='Non chocolate group')"
   ]
  },
  {
   "cell_type": "markdown",
   "metadata": {},
   "source": [
    "We can see already that the distribution is centered at a much lower level, maybe around 55% preference for riding a camel."
   ]
  },
  {
   "cell_type": "code",
   "execution_count": 32,
   "metadata": {},
   "outputs": [
    {
     "data": {
      "text/plain": [
       "<matplotlib.axes._subplots.AxesSubplot at 0x7f0fbe760810>"
      ]
     },
     "execution_count": 32,
     "metadata": {},
     "output_type": "execute_result"
    },
    {
     "data": {
      "image/png": "[encoded data removed]",
      "text/plain": [
       "<Figure size 432x288 with 1 Axes>"
      ]
     },
     "metadata": {
      "needs_background": "light"
     },
     "output_type": "display_data"
    }
   ],
   "source": [
    "score_non_chocolate = compute_indiv_score(non_chocolate_grp)\n",
    "score_non_chocolate.plot(kind='hist')"
   ]
  },
  {
   "cell_type": "markdown",
   "metadata": {},
   "source": [
    "OK! Now we have our participants. Let's run a permutation test to detect which participants were significantly preferring riding a camel in each group. Based on the between group statistics, we expect that number of be (maybe significantly, we'll see that) higher in the chocolate than in the non chocolate group."
   ]
  },
  {
   "cell_type": "markdown",
   "metadata": {},
   "source": [
    "### Permutation test"
   ]
  },
  {
   "cell_type": "markdown",
   "metadata": {},
   "source": [
    "A permutation test consists in shuffling the data, within each participant, to create a new distribution of data that would reflect a virtual, but given the data possible, distribution. That operation is performed many times to generate a virtual distribution against which the actual true data is compared to. "
   ]
  },
  {
   "cell_type": "markdown",
   "metadata": {},
   "source": [
    "In our case, we will shuffle the data of each participant between the initial measurement (baseline likelihood to ride a camel) and the post measurement phase (same measure after drinking, in each group). "
   ]
  },
  {
   "cell_type": "markdown",
   "metadata": {},
   "source": [
    "The function below runs a permutation test for all participants in a given group.\n",
    "For each participant, it shuffles the choice data nReps times, and calculate a confidence interval (you can define whether you want it one or two sided) and checks the location of the real choice data related to this CI. When outside of it, the participant is said to have a significant preference for camel riding."
   ]
  },
  {
   "cell_type": "code",
   "execution_count": 33,
   "metadata": {},
   "outputs": [],
   "source": [
    "def run_permutation(data, direct='two-sided', nReps=1000, print_output=False):\n",
    "    \"\"\"\n",
    "    Run a permutation test.\n",
    "    For each permutation, a score is calculated and store in an array.\n",
    "    Once all permutations are performed for that given participants, the function computes the real score\n",
    "    It then compares the real score with the confidence interval.\n",
    "    \n",
    "    The ouput is a datafram containing all important statistical information.\n",
    "    \"\"\"\n",
    "    # PreAllocate significance\n",
    "    output=pd.DataFrame(columns=['Participant', 'Real_Score', 'Lower_CI', 'Upper_CI', 'Significance'])\n",
    "\n",
    "    for iParticipant in range(0,data.shape[0]):\n",
    "        # Pre Allocate\n",
    "        scores = pd.Series('float')\n",
    "        # Start repetition Loop\n",
    "        if print_output == True:\n",
    "            print('Participant #' +str(iParticipant))\n",
    "        output.loc[iParticipant, 'Participant'] = iParticipant\n",
    "        for iRep in range(0,nReps):\n",
    "            # Store initial choice distribution to compute real true score\n",
    "            initial_dat = data.loc[iParticipant,:]\n",
    "            # Create a copy\n",
    "            curr_dat = initial_dat.copy()\n",
    "            # Shuffle data\n",
    "            np.random.shuffle(curr_dat)\n",
    "            # Calculate score with shuffled data\n",
    "            scores[iRep] = indiv_score(curr_dat)\n",
    "            \n",
    "        # Sort scores to compute confidence interval\n",
    "        scores = scores.sort_values().reset_index(drop=True)\n",
    "        # Calculate confidence interval bounds, based on directed hypothesis\n",
    "        if direct == 'two-sided':\n",
    "            upper = scores.iloc[np.ceil(scores.shape[0]*0.95).astype(int)]\n",
    "            lower = scores.iloc[np.ceil(scores.shape[0]*0.05).astype(int)]\n",
    "        elif direct == 'one-sided':\n",
    "            upper = scores.iloc[np.ceil(scores.shape[0]*0.975).astype(int)]\n",
    "            lower = scores.iloc[np.ceil(scores.shape[0]*0.025).astype(int)]    \n",
    "\n",
    "        output.loc[iParticipant, 'Lower_CI'] = lower\n",
    "        output.loc[iParticipant, 'Upper_CI'] = upper\n",
    "        if print_output == True:\n",
    "            print ('CI = [' +str(np.round(lower,decimals=2)) + ' ; ' + str(np.round(upper,decimals=2)) + ']')\n",
    "        # Calculate real score\n",
    "        real_score = indiv_score(initial_dat)\n",
    "        output.loc[iParticipant, 'Real_Score'] = real_score\n",
    "        if print_output == True:\n",
    "            print('Real score = ' + str(np.round(real_score,decimals=2)))\n",
    "        # Check whether score is outside CI bound\n",
    "        if (real_score < upper) & (real_score > lower):\n",
    "            output.loc[iParticipant, 'Significance'] =0\n",
    "            if print_output == True:\n",
    "                print('Not Significant')\n",
    "        elif real_score >= upper:\n",
    "            output.loc[iParticipant, 'Significance'] =1\n",
    "            if print_output == True:\n",
    "                print('Significantly above')\n",
    "        else: output.loc[iParticipant, 'Significance']  = -1; print('Significantly below')\n",
    "        if print_output == True:\n",
    "            print('')\n",
    "    return output"
   ]
  },
  {
   "cell_type": "code",
   "execution_count": 34,
   "metadata": {},
   "outputs": [
    {
     "data": {
      "text/html": [
       "<div>\n",
       "<style scoped>\n",
       "    .dataframe tbody tr th:only-of-type {\n",
       "        vertical-align: middle;\n",
       "    }\n",
       "\n",
       "    .dataframe tbody tr th {\n",
       "        vertical-align: top;\n",
       "    }\n",
       "\n",
       "    .dataframe thead th {\n",
       "        text-align: right;\n",
       "    }\n",
       "</style>\n",
       "<table border=\"1\" class=\"dataframe\">\n",
       "  <thead>\n",
       "    <tr style=\"text-align: right;\">\n",
       "      <th></th>\n",
       "      <th>Participant</th>\n",
       "      <th>Real_Score</th>\n",
       "      <th>Lower_CI</th>\n",
       "      <th>Upper_CI</th>\n",
       "      <th>Significance</th>\n",
       "    </tr>\n",
       "  </thead>\n",
       "  <tbody>\n",
       "    <tr>\n",
       "      <th>0</th>\n",
       "      <td>0</td>\n",
       "      <td>0.188119</td>\n",
       "      <td>-0.249707</td>\n",
       "      <td>0.270648</td>\n",
       "      <td>0</td>\n",
       "    </tr>\n",
       "    <tr>\n",
       "      <th>1</th>\n",
       "      <td>1</td>\n",
       "      <td>0.173236</td>\n",
       "      <td>-0.10899</td>\n",
       "      <td>0.16041</td>\n",
       "      <td>1</td>\n",
       "    </tr>\n",
       "    <tr>\n",
       "      <th>2</th>\n",
       "      <td>2</td>\n",
       "      <td>0.451767</td>\n",
       "      <td>-0.119879</td>\n",
       "      <td>0.0989011</td>\n",
       "      <td>1</td>\n",
       "    </tr>\n",
       "    <tr>\n",
       "      <th>3</th>\n",
       "      <td>3</td>\n",
       "      <td>0.380798</td>\n",
       "      <td>-0.175627</td>\n",
       "      <td>0.107814</td>\n",
       "      <td>1</td>\n",
       "    </tr>\n",
       "    <tr>\n",
       "      <th>4</th>\n",
       "      <td>4</td>\n",
       "      <td>0.23839</td>\n",
       "      <td>-0.137134</td>\n",
       "      <td>0.135442</td>\n",
       "      <td>1</td>\n",
       "    </tr>\n",
       "    <tr>\n",
       "      <th>5</th>\n",
       "      <td>5</td>\n",
       "      <td>0.468683</td>\n",
       "      <td>-0.10899</td>\n",
       "      <td>0.121187</td>\n",
       "      <td>1</td>\n",
       "    </tr>\n",
       "    <tr>\n",
       "      <th>6</th>\n",
       "      <td>6</td>\n",
       "      <td>0.216334</td>\n",
       "      <td>-0.0868925</td>\n",
       "      <td>0.0922509</td>\n",
       "      <td>1</td>\n",
       "    </tr>\n",
       "    <tr>\n",
       "      <th>7</th>\n",
       "      <td>7</td>\n",
       "      <td>0.203883</td>\n",
       "      <td>-0.134948</td>\n",
       "      <td>0.188119</td>\n",
       "      <td>1</td>\n",
       "    </tr>\n",
       "    <tr>\n",
       "      <th>8</th>\n",
       "      <td>8</td>\n",
       "      <td>-0.044586</td>\n",
       "      <td>-0.211823</td>\n",
       "      <td>0.288724</td>\n",
       "      <td>0</td>\n",
       "    </tr>\n",
       "    <tr>\n",
       "      <th>9</th>\n",
       "      <td>9</td>\n",
       "      <td>0.24424</td>\n",
       "      <td>-0.13215</td>\n",
       "      <td>0.203883</td>\n",
       "      <td>1</td>\n",
       "    </tr>\n",
       "    <tr>\n",
       "      <th>10</th>\n",
       "      <td>10</td>\n",
       "      <td>0.468683</td>\n",
       "      <td>-0.12692</td>\n",
       "      <td>0.188119</td>\n",
       "      <td>1</td>\n",
       "    </tr>\n",
       "    <tr>\n",
       "      <th>11</th>\n",
       "      <td>11</td>\n",
       "      <td>0.546961</td>\n",
       "      <td>-0.103139</td>\n",
       "      <td>0.145833</td>\n",
       "      <td>1</td>\n",
       "    </tr>\n",
       "    <tr>\n",
       "      <th>12</th>\n",
       "      <td>12</td>\n",
       "      <td>0.0898083</td>\n",
       "      <td>-0.119879</td>\n",
       "      <td>0.157796</td>\n",
       "      <td>0</td>\n",
       "    </tr>\n",
       "    <tr>\n",
       "      <th>13</th>\n",
       "      <td>13</td>\n",
       "      <td>0.16041</td>\n",
       "      <td>-0.103139</td>\n",
       "      <td>0.145833</td>\n",
       "      <td>1</td>\n",
       "    </tr>\n",
       "    <tr>\n",
       "      <th>14</th>\n",
       "      <td>14</td>\n",
       "      <td>0.357702</td>\n",
       "      <td>-0.0826963</td>\n",
       "      <td>0.126332</td>\n",
       "      <td>1</td>\n",
       "    </tr>\n",
       "    <tr>\n",
       "      <th>15</th>\n",
       "      <td>15</td>\n",
       "      <td>-0.13215</td>\n",
       "      <td>-0.305355</td>\n",
       "      <td>0.344</td>\n",
       "      <td>0</td>\n",
       "    </tr>\n",
       "    <tr>\n",
       "      <th>16</th>\n",
       "      <td>16</td>\n",
       "      <td>0.303116</td>\n",
       "      <td>-0.193729</td>\n",
       "      <td>0.261261</td>\n",
       "      <td>1</td>\n",
       "    </tr>\n",
       "    <tr>\n",
       "      <th>17</th>\n",
       "      <td>17</td>\n",
       "      <td>0.529637</td>\n",
       "      <td>-0.103139</td>\n",
       "      <td>0.112828</td>\n",
       "      <td>1</td>\n",
       "    </tr>\n",
       "    <tr>\n",
       "      <th>18</th>\n",
       "      <td>18</td>\n",
       "      <td>0.268583</td>\n",
       "      <td>-0.173291</td>\n",
       "      <td>0.157796</td>\n",
       "      <td>1</td>\n",
       "    </tr>\n",
       "    <tr>\n",
       "      <th>19</th>\n",
       "      <td>19</td>\n",
       "      <td>0.255161</td>\n",
       "      <td>-0.0789474</td>\n",
       "      <td>0.0734463</td>\n",
       "      <td>1</td>\n",
       "    </tr>\n",
       "  </tbody>\n",
       "</table>\n",
       "</div>"
      ],
      "text/plain": [
       "   Participant Real_Score   Lower_CI   Upper_CI Significance\n",
       "0            0   0.188119  -0.249707   0.270648            0\n",
       "1            1   0.173236   -0.10899    0.16041            1\n",
       "2            2   0.451767  -0.119879  0.0989011            1\n",
       "3            3   0.380798  -0.175627   0.107814            1\n",
       "4            4    0.23839  -0.137134   0.135442            1\n",
       "5            5   0.468683   -0.10899   0.121187            1\n",
       "6            6   0.216334 -0.0868925  0.0922509            1\n",
       "7            7   0.203883  -0.134948   0.188119            1\n",
       "8            8  -0.044586  -0.211823   0.288724            0\n",
       "9            9    0.24424   -0.13215   0.203883            1\n",
       "10          10   0.468683   -0.12692   0.188119            1\n",
       "11          11   0.546961  -0.103139   0.145833            1\n",
       "12          12  0.0898083  -0.119879   0.157796            0\n",
       "13          13    0.16041  -0.103139   0.145833            1\n",
       "14          14   0.357702 -0.0826963   0.126332            1\n",
       "15          15   -0.13215  -0.305355      0.344            0\n",
       "16          16   0.303116  -0.193729   0.261261            1\n",
       "17          17   0.529637  -0.103139   0.112828            1\n",
       "18          18   0.268583  -0.173291   0.157796            1\n",
       "19          19   0.255161 -0.0789474  0.0734463            1"
      ]
     },
     "execution_count": 34,
     "metadata": {},
     "output_type": "execute_result"
    }
   ],
   "source": [
    "output_chocolate = run_permutation(chocolate_grp, direct='two-sided', nReps=100, print_output=False)\n",
    "output_chocolate"
   ]
  },
  {
   "cell_type": "code",
   "execution_count": 35,
   "metadata": {},
   "outputs": [
    {
     "name": "stdout",
     "output_type": "stream",
     "text": [
      "Significantly below\n"
     ]
    },
    {
     "data": {
      "text/html": [
       "<div>\n",
       "<style scoped>\n",
       "    .dataframe tbody tr th:only-of-type {\n",
       "        vertical-align: middle;\n",
       "    }\n",
       "\n",
       "    .dataframe tbody tr th {\n",
       "        vertical-align: top;\n",
       "    }\n",
       "\n",
       "    .dataframe thead th {\n",
       "        text-align: right;\n",
       "    }\n",
       "</style>\n",
       "<table border=\"1\" class=\"dataframe\">\n",
       "  <thead>\n",
       "    <tr style=\"text-align: right;\">\n",
       "      <th></th>\n",
       "      <th>Participant</th>\n",
       "      <th>Real_Score</th>\n",
       "      <th>Lower_CI</th>\n",
       "      <th>Upper_CI</th>\n",
       "      <th>Significance</th>\n",
       "    </tr>\n",
       "  </thead>\n",
       "  <tbody>\n",
       "    <tr>\n",
       "      <th>0</th>\n",
       "      <td>0</td>\n",
       "      <td>-0.0789474</td>\n",
       "      <td>-0.233926</td>\n",
       "      <td>0.299145</td>\n",
       "      <td>0</td>\n",
       "    </tr>\n",
       "    <tr>\n",
       "      <th>1</th>\n",
       "      <td>1</td>\n",
       "      <td>0.0646388</td>\n",
       "      <td>-0.261538</td>\n",
       "      <td>0.207729</td>\n",
       "      <td>0</td>\n",
       "    </tr>\n",
       "    <tr>\n",
       "      <th>2</th>\n",
       "      <td>2</td>\n",
       "      <td>-0.0493601</td>\n",
       "      <td>-0.284116</td>\n",
       "      <td>0.444695</td>\n",
       "      <td>0</td>\n",
       "    </tr>\n",
       "    <tr>\n",
       "      <th>3</th>\n",
       "      <td>3</td>\n",
       "      <td>0.397059</td>\n",
       "      <td>-0.233926</td>\n",
       "      <td>0.299145</td>\n",
       "      <td>1</td>\n",
       "    </tr>\n",
       "    <tr>\n",
       "      <th>4</th>\n",
       "      <td>4</td>\n",
       "      <td>0.145833</td>\n",
       "      <td>-0.182692</td>\n",
       "      <td>0.188119</td>\n",
       "      <td>0</td>\n",
       "    </tr>\n",
       "    <tr>\n",
       "      <th>5</th>\n",
       "      <td>5</td>\n",
       "      <td>-0.344262</td>\n",
       "      <td>-0.211823</td>\n",
       "      <td>0.322314</td>\n",
       "      <td>-1</td>\n",
       "    </tr>\n",
       "    <tr>\n",
       "      <th>6</th>\n",
       "      <td>6</td>\n",
       "      <td>0.13943</td>\n",
       "      <td>-0.261538</td>\n",
       "      <td>0.282799</td>\n",
       "      <td>0</td>\n",
       "    </tr>\n",
       "    <tr>\n",
       "      <th>7</th>\n",
       "      <td>7</td>\n",
       "      <td>0.0845295</td>\n",
       "      <td>-0.305355</td>\n",
       "      <td>0.374046</td>\n",
       "      <td>0</td>\n",
       "    </tr>\n",
       "    <tr>\n",
       "      <th>8</th>\n",
       "      <td>8</td>\n",
       "      <td>-0.115646</td>\n",
       "      <td>-0.297012</td>\n",
       "      <td>0.357702</td>\n",
       "      <td>0</td>\n",
       "    </tr>\n",
       "    <tr>\n",
       "      <th>9</th>\n",
       "      <td>9</td>\n",
       "      <td>0.16041</td>\n",
       "      <td>-0.223881</td>\n",
       "      <td>0.23839</td>\n",
       "      <td>0</td>\n",
       "    </tr>\n",
       "    <tr>\n",
       "      <th>10</th>\n",
       "      <td>10</td>\n",
       "      <td>-0.291339</td>\n",
       "      <td>-0.344262</td>\n",
       "      <td>0.349206</td>\n",
       "      <td>0</td>\n",
       "    </tr>\n",
       "    <tr>\n",
       "      <th>11</th>\n",
       "      <td>11</td>\n",
       "      <td>0.122995</td>\n",
       "      <td>-0.242424</td>\n",
       "      <td>0.261261</td>\n",
       "      <td>0</td>\n",
       "    </tr>\n",
       "    <tr>\n",
       "      <th>12</th>\n",
       "      <td>12</td>\n",
       "      <td>-0.297012</td>\n",
       "      <td>-0.344262</td>\n",
       "      <td>0.41844</td>\n",
       "      <td>0</td>\n",
       "    </tr>\n",
       "    <tr>\n",
       "      <th>13</th>\n",
       "      <td>13</td>\n",
       "      <td>0.164483</td>\n",
       "      <td>-0.182692</td>\n",
       "      <td>0.261261</td>\n",
       "      <td>0</td>\n",
       "    </tr>\n",
       "    <tr>\n",
       "      <th>14</th>\n",
       "      <td>14</td>\n",
       "      <td>0.154639</td>\n",
       "      <td>-0.252971</td>\n",
       "      <td>0.349206</td>\n",
       "      <td>0</td>\n",
       "    </tr>\n",
       "    <tr>\n",
       "      <th>15</th>\n",
       "      <td>15</td>\n",
       "      <td>0.11828</td>\n",
       "      <td>-0.211823</td>\n",
       "      <td>0.357702</td>\n",
       "      <td>0</td>\n",
       "    </tr>\n",
       "    <tr>\n",
       "      <th>16</th>\n",
       "      <td>16</td>\n",
       "      <td>-0.252971</td>\n",
       "      <td>-0.344262</td>\n",
       "      <td>0.444695</td>\n",
       "      <td>0</td>\n",
       "    </tr>\n",
       "    <tr>\n",
       "      <th>17</th>\n",
       "      <td>17</td>\n",
       "      <td>-0.233926</td>\n",
       "      <td>-0.301587</td>\n",
       "      <td>0.374046</td>\n",
       "      <td>0</td>\n",
       "    </tr>\n",
       "    <tr>\n",
       "      <th>18</th>\n",
       "      <td>18</td>\n",
       "      <td>0.231593</td>\n",
       "      <td>-0.182692</td>\n",
       "      <td>0.270648</td>\n",
       "      <td>0</td>\n",
       "    </tr>\n",
       "    <tr>\n",
       "      <th>19</th>\n",
       "      <td>19</td>\n",
       "      <td>0.0543657</td>\n",
       "      <td>-0.274611</td>\n",
       "      <td>0.274336</td>\n",
       "      <td>0</td>\n",
       "    </tr>\n",
       "  </tbody>\n",
       "</table>\n",
       "</div>"
      ],
      "text/plain": [
       "   Participant Real_Score  Lower_CI  Upper_CI Significance\n",
       "0            0 -0.0789474 -0.233926  0.299145            0\n",
       "1            1  0.0646388 -0.261538  0.207729            0\n",
       "2            2 -0.0493601 -0.284116  0.444695            0\n",
       "3            3   0.397059 -0.233926  0.299145            1\n",
       "4            4   0.145833 -0.182692  0.188119            0\n",
       "5            5  -0.344262 -0.211823  0.322314           -1\n",
       "6            6    0.13943 -0.261538  0.282799            0\n",
       "7            7  0.0845295 -0.305355  0.374046            0\n",
       "8            8  -0.115646 -0.297012  0.357702            0\n",
       "9            9    0.16041 -0.223881   0.23839            0\n",
       "10          10  -0.291339 -0.344262  0.349206            0\n",
       "11          11   0.122995 -0.242424  0.261261            0\n",
       "12          12  -0.297012 -0.344262   0.41844            0\n",
       "13          13   0.164483 -0.182692  0.261261            0\n",
       "14          14   0.154639 -0.252971  0.349206            0\n",
       "15          15    0.11828 -0.211823  0.357702            0\n",
       "16          16  -0.252971 -0.344262  0.444695            0\n",
       "17          17  -0.233926 -0.301587  0.374046            0\n",
       "18          18   0.231593 -0.182692  0.270648            0\n",
       "19          19  0.0543657 -0.274611  0.274336            0"
      ]
     },
     "execution_count": 35,
     "metadata": {},
     "output_type": "execute_result"
    }
   ],
   "source": [
    "output_non_chocolate = run_permutation(non_chocolate_grp, direct='two-sided', nReps=100, print_output=False)\n",
    "output_non_chocolate"
   ]
  },
  {
   "cell_type": "markdown",
   "metadata": {},
   "source": [
    "We can see that, as expected from the way we compute the distributions ,we have much more participants that significantly increased their camel ride preference after the baseline measurement in the chocolate group. <br>\n",
    "\n",
    "That is much less likely in the non chocolate group, where we even have one significant decrease in preference (participant #11)"
   ]
  },
  {
   "cell_type": "markdown",
   "metadata": {},
   "source": [
    "### Final words"
   ]
  },
  {
   "cell_type": "markdown",
   "metadata": {},
   "source": [
    "That was it. Once this analysis is done, you could look at what other, **unrelated** variables, might differ between the two groups and potentially explain part of the variance in the statistics. \n",
    "<br><br>\n",
    "I hope that you found this tutorial helpful.\n",
    "Don't hesitate to contact me if you have any questions or comments!\n",
    "\n",
    "Data and notebooks are in this repo: https://github.com/juls-dotcom/permutation"
   ]
  }
 ],
 "metadata": {
  "kernelspec": {
   "display_name": "Python 3",
   "language": "python",
   "name": "python3"
  },
  "language_info": {
   "codemirror_mode": {
    "name": "ipython",
    "version": 3
   },
   "file_extension": ".py",
   "mimetype": "text/x-python",
   "name": "python",
   "nbconvert_exporter": "python",
   "pygments_lexer": "ipython3",
   "version": "3.7.4"
  }
 },
 "nbformat": 4,
 "nbformat_minor": 4
}
